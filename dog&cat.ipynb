{
  "nbformat": 4,
  "nbformat_minor": 0,
  "metadata": {
    "colab": {
      "provenance": [],
      "mount_file_id": "1_AO_A3D3uq2km37ETARn2LNf2AyLb0A-",
      "authorship_tag": "ABX9TyO0HRGBWzOFtyA9VkD5W/hV",
      "include_colab_link": true
    },
    "kernelspec": {
      "name": "python3",
      "display_name": "Python 3"
    },
    "language_info": {
      "name": "python"
    }
  },
  "cells": [
    {
      "cell_type": "markdown",
      "metadata": {
        "id": "view-in-github",
        "colab_type": "text"
      },
      "source": [
        "<a href=\"https://colab.research.google.com/github/leinadanul/cat-dog/blob/main/dog%26cat.ipynb\" target=\"_parent\"><img src=\"https://colab.research.google.com/assets/colab-badge.svg\" alt=\"Open In Colab\"/></a>"
      ]
    },
    {
      "cell_type": "code",
      "execution_count": 44,
      "metadata": {
        "id": "Z8KVP90r1BjC"
      },
      "outputs": [],
      "source": [
        "from PIL import Image\n",
        "from sklearn.model_selection import train_test_split\n",
        "import tensorflow as tf\n",
        "from tensorflow import keras\n",
        "import numpy as np\n"
      ]
    },
    {
      "cell_type": "code",
      "source": [
        "#load image\n",
        "image = Image.open(\"cat_1.jpg\")\n",
        "#convert the image to numpy array\n",
        "image_array = np.array(image)\n",
        "#normalize the pixel values to the range [0,1]\n",
        "image_normalized  = image_array / 255.0\n",
        "#Make sure the image has the correct data type(float32)\n",
        "image_normalized = image_normalized.astype('float32')\n",
        "#verify\n",
        "print(image_normalized)\n"
      ],
      "metadata": {
        "id": "klletYm018w8"
      },
      "execution_count": null,
      "outputs": []
    },
    {
      "cell_type": "code",
      "source": [
        "image_paths = [\"cat_1.jpg\",\"cat_2.jpg\",\"cat_3.jpg\",\"cat_4.jpg\",\"cat_5.jpg\",\"dog_1.jpg\", \"dog_2.jpg\",\"dog_3.jpg\", \"dog_4.jpg\",\"dog_5.jpg\"]\n",
        "labels = [0,0,0,0,0,1,1,1,1,1]\n"
      ],
      "metadata": {
        "id": "h6b7k5dp2d77"
      },
      "execution_count": 71,
      "outputs": []
    },
    {
      "cell_type": "code",
      "source": [
        "# Initialize empty lists to store images and labels\n",
        "images = []\n",
        "encoded_labels = []\n",
        "# Load and preprocess each image\n",
        "for image_path, label in zip(image_paths, labels):\n",
        "    image = Image.open(image_path)\n",
        "    image = image.resize((224,224))\n",
        "    image_array = np.array(image)\n",
        "    image_normalized = image_array / 255.0\n",
        "    image_normalized = image_normalized.astype('float32')\n",
        "\n",
        "    images.append(image_normalized)\n",
        "    encoded_labels.append(label)\n",
        "# Convert lists to NumPy arrays after the loop\n",
        "images = np.array(images)\n",
        "encoded_labels = np.array(encoded_labels)\n",
        "\n",
        "    # Verify the shapes of the arrays\n",
        "print(\"Images shape:\", images.shape)\n",
        "print(\"Labels shape:\", encoded_labels.shape)\n",
        "\n",
        "\n",
        ""
      ],
      "metadata": {
        "id": "SvkLzM_m88Jg"
      },
      "execution_count": null,
      "outputs": []
    },
    {
      "cell_type": "code",
      "source": [
        "X_train, X_test, y_train, y_test = train_test_split(images, encoded_labels, test_size=0.2, random_state=42)"
      ],
      "metadata": {
        "id": "LugI4LaWMSkQ"
      },
      "execution_count": 48,
      "outputs": []
    },
    {
      "cell_type": "code",
      "source": [
        "model = keras.Sequential([\n",
        "    keras.layers.Conv2D(32, (3, 3), activation='relu', input_shape=(224, 224, 3)),\n",
        "    keras.layers.MaxPooling2D(2, 2),\n",
        "    keras.layers.Conv2D(64, (3, 3), activation='relu'),\n",
        "    keras.layers.MaxPooling2D(2, 2),\n",
        "    keras.layers.Conv2D(128, (3, 3), activation='relu'),\n",
        "    keras.layers.MaxPooling2D(2, 2),\n",
        "    keras.layers.Flatten(),\n",
        "    keras.layers.Dense(128, activation='relu'),\n",
        "    keras.layers.Dense(2, activation='softmax')\n",
        "])\n"
      ],
      "metadata": {
        "id": "GMXwDnhjFfZm"
      },
      "execution_count": 49,
      "outputs": []
    },
    {
      "cell_type": "code",
      "source": [
        "model.compile(optimizer='adam',\n",
        "              loss='sparse_categorical_crossentropy',\n",
        "              metrics=['accuracy'])"
      ],
      "metadata": {
        "id": "E6pdB8FrKfyA"
      },
      "execution_count": 50,
      "outputs": []
    },
    {
      "cell_type": "code",
      "source": [
        "model.summary()"
      ],
      "metadata": {
        "id": "KUANW81DKh1b"
      },
      "execution_count": null,
      "outputs": []
    },
    {
      "cell_type": "code",
      "source": [
        "model.fit(X_train, y_train, epochs=10, batch_size=32, validation_data=(X_test, y_test))\n"
      ],
      "metadata": {
        "colab": {
          "base_uri": "https://localhost:8080/"
        },
        "id": "q11BR2D4KrA5",
        "outputId": "d99c3408-785f-4520-d4f8-15ee59394faa"
      },
      "execution_count": 65,
      "outputs": [
        {
          "output_type": "stream",
          "name": "stdout",
          "text": [
            "Epoch 1/10\n",
            "1/1 [==============================] - 1s 964ms/step - loss: 0.0316 - accuracy: 1.0000 - val_loss: 1.9120 - val_accuracy: 0.0000e+00\n",
            "Epoch 2/10\n",
            "1/1 [==============================] - 1s 913ms/step - loss: 0.0104 - accuracy: 1.0000 - val_loss: 2.2282 - val_accuracy: 0.5000\n",
            "Epoch 3/10\n",
            "1/1 [==============================] - 1s 1s/step - loss: 0.0085 - accuracy: 1.0000 - val_loss: 2.7006 - val_accuracy: 0.5000\n",
            "Epoch 4/10\n",
            "1/1 [==============================] - 1s 906ms/step - loss: 0.0080 - accuracy: 1.0000 - val_loss: 3.2138 - val_accuracy: 0.5000\n",
            "Epoch 5/10\n",
            "1/1 [==============================] - 1s 907ms/step - loss: 0.0065 - accuracy: 1.0000 - val_loss: 3.6654 - val_accuracy: 0.5000\n",
            "Epoch 6/10\n",
            "1/1 [==============================] - 1s 874ms/step - loss: 0.0040 - accuracy: 1.0000 - val_loss: 3.9705 - val_accuracy: 0.5000\n",
            "Epoch 7/10\n",
            "1/1 [==============================] - 1s 883ms/step - loss: 0.0019 - accuracy: 1.0000 - val_loss: 4.1694 - val_accuracy: 0.5000\n",
            "Epoch 8/10\n",
            "1/1 [==============================] - 1s 873ms/step - loss: 6.1965e-04 - accuracy: 1.0000 - val_loss: 4.3304 - val_accuracy: 0.5000\n",
            "Epoch 9/10\n",
            "1/1 [==============================] - 1s 876ms/step - loss: 1.6697e-04 - accuracy: 1.0000 - val_loss: 4.7202 - val_accuracy: 0.0000e+00\n",
            "Epoch 10/10\n",
            "1/1 [==============================] - 1s 870ms/step - loss: 3.8934e-05 - accuracy: 1.0000 - val_loss: 5.4300 - val_accuracy: 0.0000e+00\n"
          ]
        },
        {
          "output_type": "execute_result",
          "data": {
            "text/plain": [
              "<keras.src.callbacks.History at 0x7e8cfecce920>"
            ]
          },
          "metadata": {},
          "execution_count": 65
        }
      ]
    },
    {
      "cell_type": "code",
      "source": [
        "test_loss, test_accuracy = model.evaluate(X_test, y_test)\n",
        "print(f\"Test loss: {test_loss:.4f}\")\n",
        "print(f\"Test accuracy: {test_accuracy:.4f}\")\n"
      ],
      "metadata": {
        "colab": {
          "base_uri": "https://localhost:8080/"
        },
        "id": "azWdD1uPNoVN",
        "outputId": "71ed0108-3226-4500-c9eb-2af19547f6a3"
      },
      "execution_count": 66,
      "outputs": [
        {
          "output_type": "stream",
          "name": "stdout",
          "text": [
            "1/1 [==============================] - 0s 72ms/step - loss: 5.4300 - accuracy: 0.0000e+00\n",
            "Test loss: 5.4300\n",
            "Test accuracy: 0.0000\n"
          ]
        }
      ]
    },
    {
      "cell_type": "code",
      "source": [
        "new_image = Image.open(\"Gato-Singapura.jpg\")\n",
        "new_image = new_image.resize((224, 224))\n",
        "new_image_array = np.array(new_image)\n",
        "new_image_normalized = new_image_array / 255.0\n",
        "new_image_normalized = new_image_normalized.astype('float32')"
      ],
      "metadata": {
        "id": "Bgc9fodjOWHI"
      },
      "execution_count": 77,
      "outputs": []
    },
    {
      "cell_type": "code",
      "source": [
        "predictions = model.predict(np.expand_dims(new_image_normalized, axis= 0))\n"
      ],
      "metadata": {
        "colab": {
          "base_uri": "https://localhost:8080/"
        },
        "id": "ApkvHY7JN4bR",
        "outputId": "9b69aee9-463a-4398-c2e2-cada7952f205"
      },
      "execution_count": 78,
      "outputs": [
        {
          "output_type": "stream",
          "name": "stdout",
          "text": [
            "1/1 [==============================] - 0s 68ms/step\n"
          ]
        }
      ]
    },
    {
      "cell_type": "code",
      "source": [
        "predicted_class_index = np.argmax(predictions)"
      ],
      "metadata": {
        "id": "ybnbVrB4QKI-"
      },
      "execution_count": 79,
      "outputs": []
    },
    {
      "cell_type": "code",
      "source": [
        "if predicted_class_index == 0:\n",
        "  print(\"Predicted class: Cat\")\n",
        "else:\n",
        "  print(\"predicted class: Dog\")"
      ],
      "metadata": {
        "colab": {
          "base_uri": "https://localhost:8080/"
        },
        "id": "uzorwzDSPvkz",
        "outputId": "b690d1d5-2904-477e-c11a-38bfc48d43d5"
      },
      "execution_count": 80,
      "outputs": [
        {
          "output_type": "stream",
          "name": "stdout",
          "text": [
            "Predicted class: Cat\n"
          ]
        }
      ]
    }
  ]
}